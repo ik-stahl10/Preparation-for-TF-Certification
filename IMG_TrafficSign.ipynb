{
  "nbformat": 4,
  "nbformat_minor": 0,
  "metadata": {
    "colab": {
      "provenance": [],
      "authorship_tag": "ABX9TyMCQYuiQyb24eEsv/T/yDLq"
    },
    "kernelspec": {
      "name": "python3",
      "display_name": "Python 3"
    },
    "language_info": {
      "name": "python"
    }
  },
  "cells": [
    {
      "cell_type": "code",
      "execution_count": 5,
      "metadata": {
        "id": "cYx0E7nIH625"
      },
      "outputs": [],
      "source": [
        "import tensorflow as tf\n",
        "import numpy as np\n",
        "import matplotlib.pyplot as plt\n",
        "     "
      ]
    },
    {
      "cell_type": "markdown",
      "source": [
        "Data Gathering\n",
        "\n",
        "Download data from a given URL."
      ],
      "metadata": {
        "id": "w2_GEn6wIOjR"
      }
    },
    {
      "cell_type": "code",
      "source": [
        "!wget https://d17h27t6h515a5.cloudfront.net/topher/2017/February/5898cd6f_traffic-signs-data/traffic-signs-data.zip\n",
        "!unzip -q traffic-signs-data.zip\n",
        " "
      ],
      "metadata": {
        "colab": {
          "base_uri": "https://localhost:8080/"
        },
        "id": "HW15p2WPIR_5",
        "outputId": "fae49b7a-91c0-4ffe-c538-bf55a0020f35"
      },
      "execution_count": 1,
      "outputs": [
        {
          "output_type": "stream",
          "name": "stdout",
          "text": [
            "--2022-12-13 10:56:06--  https://d17h27t6h515a5.cloudfront.net/topher/2017/February/5898cd6f_traffic-signs-data/traffic-signs-data.zip\n",
            "Resolving d17h27t6h515a5.cloudfront.net (d17h27t6h515a5.cloudfront.net)... 13.249.90.229, 13.249.90.192, 13.249.90.90, ...\n",
            "Connecting to d17h27t6h515a5.cloudfront.net (d17h27t6h515a5.cloudfront.net)|13.249.90.229|:443... connected.\n",
            "HTTP request sent, awaiting response... 200 OK\n",
            "Length: 123524425 (118M) [application/zip]\n",
            "Saving to: ‘traffic-signs-data.zip’\n",
            "\n",
            "traffic-signs-data. 100%[===================>] 117.80M  60.3MB/s    in 2.0s    \n",
            "\n",
            "2022-12-13 10:56:08 (60.3 MB/s) - ‘traffic-signs-data.zip’ saved [123524425/123524425]\n",
            "\n"
          ]
        }
      ]
    },
    {
      "cell_type": "markdown",
      "source": [
        "Read data from pickle files."
      ],
      "metadata": {
        "id": "lA5kaIo1IaS5"
      }
    },
    {
      "cell_type": "code",
      "source": [
        "import pickle\n",
        "\n",
        "train_data = pickle.load(open(\"train.p\", \"rb\"))\n",
        "val_data = pickle.load(open(\"valid.p\", \"rb\"))\n",
        "test_data = pickle.load(open(\"test.p\", \"rb\"))\n",
        "     \n",
        "\n",
        "get_features_labels = lambda x : (x[\"features\"], x[\"labels\"])\n",
        "X_train, y_train = get_features_labels(train_data)\n",
        "X_val, y_val = get_features_labels(val_data)\n",
        "X_test, y_test = get_features_labels(test_data)"
      ],
      "metadata": {
        "id": "3FFRYmSlIa46"
      },
      "execution_count": 2,
      "outputs": []
    },
    {
      "cell_type": "markdown",
      "source": [
        "Define the input shape"
      ],
      "metadata": {
        "id": "AWfCpv14Ijey"
      }
    },
    {
      "cell_type": "code",
      "source": [
        "num_train_samples, *input_shape = X_train.shape\n",
        "num_classes = 43\n",
        "print(\"Input shape:\", input_shape)"
      ],
      "metadata": {
        "colab": {
          "base_uri": "https://localhost:8080/"
        },
        "id": "dn0tWdbzIkIy",
        "outputId": "a48547af-56fd-4211-9613-9e585ca75b02"
      },
      "execution_count": 3,
      "outputs": [
        {
          "output_type": "stream",
          "name": "stdout",
          "text": [
            "Input shape: [32, 32, 3]\n"
          ]
        }
      ]
    },
    {
      "cell_type": "markdown",
      "source": [
        "Since the pixel lies between 0-255, need scaling -> would add a rescaling layer later in the model.\n",
        "\n"
      ],
      "metadata": {
        "id": "WJkVz1ifIo7Z"
      }
    },
    {
      "cell_type": "code",
      "source": [
        "print(\"Pixel range:\", np.min(X_train), np.max(X_train))\n"
      ],
      "metadata": {
        "colab": {
          "base_uri": "https://localhost:8080/"
        },
        "id": "6GeNVHeEIp-B",
        "outputId": "600c5c79-620d-404c-bb32-fa0fc82787d0"
      },
      "execution_count": 6,
      "outputs": [
        {
          "output_type": "stream",
          "name": "stdout",
          "text": [
            "Pixel range: 0 255\n"
          ]
        }
      ]
    },
    {
      "cell_type": "markdown",
      "source": [
        "Data Shuffling\n"
      ],
      "metadata": {
        "id": "JXMheTeOIxCU"
      }
    },
    {
      "cell_type": "code",
      "source": [
        "from sklearn.utils import shuffle\n",
        "\n",
        "X_train, y_train = shuffle(X_train, y_train)\n",
        "X_val, y_val = shuffle(X_val, y_val)\n",
        "X_test, y_test = shuffle(X_test, y_test)"
      ],
      "metadata": {
        "id": "bmHVqMGWIyaL"
      },
      "execution_count": 7,
      "outputs": []
    },
    {
      "cell_type": "markdown",
      "source": [
        "Data Augmentation\n"
      ],
      "metadata": {
        "id": "zAT06IeeI1qQ"
      }
    },
    {
      "cell_type": "code",
      "source": [
        "BATCH_SIZE = 128\n",
        "     \n",
        "\n",
        "from tensorflow.keras.preprocessing.image import ImageDataGenerator\n",
        "\n",
        "augmentator = ImageDataGenerator(\n",
        "    rotation_range=20,\n",
        "    width_shift_range=0.2,\n",
        "    height_shift_range=0.2, \n",
        "    horizontal_flip=True\n",
        ")\n",
        "\n",
        "ds_train = tf.data.Dataset.from_tensor_slices((X_train, y_train)).batch(BATCH_SIZE)\n",
        "ds_train_aug = augmentator.flow(X_train, y_train, batch_size=BATCH_SIZE)"
      ],
      "metadata": {
        "id": "NsMU4AaLI2YJ"
      },
      "execution_count": 8,
      "outputs": []
    },
    {
      "cell_type": "markdown",
      "source": [
        "Model Architecture\n"
      ],
      "metadata": {
        "id": "7jHG6f0KI5ro"
      }
    },
    {
      "cell_type": "code",
      "source": [
        "from tensorflow.keras.models import Sequential\n",
        "from tensorflow.keras.layers import Conv2D, MaxPooling2D, BatchNormalization, Flatten, Dense\n",
        "from tensorflow.keras.layers.experimental.preprocessing import Rescaling"
      ],
      "metadata": {
        "id": "uvrbEjbgI7U4"
      },
      "execution_count": 9,
      "outputs": []
    },
    {
      "cell_type": "code",
      "source": [
        "model = Sequential()\n",
        "\n",
        "model.add(Rescaling(scale=1./255, input_shape=input_shape))\n",
        "\n",
        "model.add(Conv2D(filters=32, kernel_size=(2, 2), padding=\"same\", activation=\"relu\")) # Input shape: (32 x 32 x 32)\n",
        "model.add(BatchNormalization())\n",
        "model.add(Conv2D(filters=32, kernel_size=(2, 2), padding=\"same\", activation=\"relu\")) # Input shape: (32 x 32 x 32)\n",
        "model.add(BatchNormalization())\n",
        "model.add(MaxPooling2D(pool_size=(2, 2)))                                            # Input shape: (16 x 16 x 32)\n",
        "\n",
        "model.add(Conv2D(filters=64, kernel_size=(2, 2), padding=\"same\", activation=\"relu\")) # Input shape: (16 x 16 x 64)\n",
        "model.add(BatchNormalization())\n",
        "model.add(Conv2D(filters=64, kernel_size=(2, 2), padding=\"same\", activation=\"relu\")) # Input shape: (16 x 16 x 64)\n",
        "model.add(BatchNormalization())\n",
        "model.add(MaxPooling2D(pool_size=(2, 2)))                                            # Input shape: (8 x 8 x 64)\n",
        "\n",
        "model.add(Flatten())                                                                 # Input shape: (4096)\n",
        "model.add(Dense(512, activation=\"relu\"))                                             # Input shape: (512)\n",
        "model.add(Dense(num_classes, activation=\"softmax\"))                                  # Input shape: (num_classes)\n",
        "\n",
        "model.summary()"
      ],
      "metadata": {
        "colab": {
          "base_uri": "https://localhost:8080/"
        },
        "id": "RMZVFse3I95r",
        "outputId": "9075137a-f9ce-4b4b-88d0-23e56cf73855"
      },
      "execution_count": 10,
      "outputs": [
        {
          "output_type": "stream",
          "name": "stdout",
          "text": [
            "Model: \"sequential\"\n",
            "_________________________________________________________________\n",
            " Layer (type)                Output Shape              Param #   \n",
            "=================================================================\n",
            " rescaling (Rescaling)       (None, 32, 32, 3)         0         \n",
            "                                                                 \n",
            " conv2d (Conv2D)             (None, 32, 32, 32)        416       \n",
            "                                                                 \n",
            " batch_normalization (BatchN  (None, 32, 32, 32)       128       \n",
            " ormalization)                                                   \n",
            "                                                                 \n",
            " conv2d_1 (Conv2D)           (None, 32, 32, 32)        4128      \n",
            "                                                                 \n",
            " batch_normalization_1 (Batc  (None, 32, 32, 32)       128       \n",
            " hNormalization)                                                 \n",
            "                                                                 \n",
            " max_pooling2d (MaxPooling2D  (None, 16, 16, 32)       0         \n",
            " )                                                               \n",
            "                                                                 \n",
            " conv2d_2 (Conv2D)           (None, 16, 16, 64)        8256      \n",
            "                                                                 \n",
            " batch_normalization_2 (Batc  (None, 16, 16, 64)       256       \n",
            " hNormalization)                                                 \n",
            "                                                                 \n",
            " conv2d_3 (Conv2D)           (None, 16, 16, 64)        16448     \n",
            "                                                                 \n",
            " batch_normalization_3 (Batc  (None, 16, 16, 64)       256       \n",
            " hNormalization)                                                 \n",
            "                                                                 \n",
            " max_pooling2d_1 (MaxPooling  (None, 8, 8, 64)         0         \n",
            " 2D)                                                             \n",
            "                                                                 \n",
            " flatten (Flatten)           (None, 4096)              0         \n",
            "                                                                 \n",
            " dense (Dense)               (None, 512)               2097664   \n",
            "                                                                 \n",
            " dense_1 (Dense)             (None, 43)                22059     \n",
            "                                                                 \n",
            "=================================================================\n",
            "Total params: 2,149,739\n",
            "Trainable params: 2,149,355\n",
            "Non-trainable params: 384\n",
            "_________________________________________________________________\n"
          ]
        }
      ]
    },
    {
      "cell_type": "code",
      "source": [
        "rmsprop_opt = tf.optimizers.RMSprop()\n",
        "model.compile(loss=\"sparse_categorical_crossentropy\", optimizer=rmsprop_opt, metrics=[\"acc\"])\n"
      ],
      "metadata": {
        "id": "fUSuuw6iJDI5"
      },
      "execution_count": 11,
      "outputs": []
    },
    {
      "cell_type": "markdown",
      "source": [
        "Training\n"
      ],
      "metadata": {
        "id": "UFaqdh4kJE2Z"
      }
    },
    {
      "cell_type": "code",
      "source": [
        "history = model.fit(ds_train, epochs=10, validation_data=(X_val, y_val))\n"
      ],
      "metadata": {
        "colab": {
          "base_uri": "https://localhost:8080/"
        },
        "id": "5Sl25W4MJFda",
        "outputId": "945f427e-dc25-4599-c7e2-5a3eba1a88c4"
      },
      "execution_count": 13,
      "outputs": [
        {
          "output_type": "stream",
          "name": "stdout",
          "text": [
            "Epoch 1/10\n",
            "272/272 [==============================] - 154s 567ms/step - loss: 0.1383 - acc: 0.9596 - val_loss: 1.6227 - val_acc: 0.7120\n",
            "Epoch 2/10\n",
            "272/272 [==============================] - 155s 571ms/step - loss: 0.0533 - acc: 0.9869 - val_loss: 0.6176 - val_acc: 0.9023\n",
            "Epoch 3/10\n",
            "272/272 [==============================] - 153s 564ms/step - loss: 0.0309 - acc: 0.9922 - val_loss: 0.6322 - val_acc: 0.9249\n",
            "Epoch 4/10\n",
            "272/272 [==============================] - 153s 564ms/step - loss: 0.0252 - acc: 0.9941 - val_loss: 0.6583 - val_acc: 0.9091\n",
            "Epoch 5/10\n",
            "272/272 [==============================] - 153s 563ms/step - loss: 0.0185 - acc: 0.9958 - val_loss: 0.7733 - val_acc: 0.9102\n",
            "Epoch 6/10\n",
            "272/272 [==============================] - 154s 565ms/step - loss: 0.0155 - acc: 0.9966 - val_loss: 0.7824 - val_acc: 0.9252\n",
            "Epoch 7/10\n",
            "272/272 [==============================] - 154s 565ms/step - loss: 0.0136 - acc: 0.9970 - val_loss: 0.4636 - val_acc: 0.9354\n",
            "Epoch 8/10\n",
            "272/272 [==============================] - 152s 560ms/step - loss: 0.0100 - acc: 0.9979 - val_loss: 0.5855 - val_acc: 0.9324\n",
            "Epoch 9/10\n",
            "272/272 [==============================] - 153s 564ms/step - loss: 0.0117 - acc: 0.9978 - val_loss: 0.9568 - val_acc: 0.9136\n",
            "Epoch 10/10\n",
            "272/272 [==============================] - 154s 568ms/step - loss: 0.0114 - acc: 0.9980 - val_loss: 0.5330 - val_acc: 0.9424\n"
          ]
        }
      ]
    },
    {
      "cell_type": "code",
      "source": [
        "model.save(\"traffic_sign.h5\")\n"
      ],
      "metadata": {
        "id": "MIovQs7dJMZC"
      },
      "execution_count": 14,
      "outputs": []
    },
    {
      "cell_type": "markdown",
      "source": [
        "Evaluation\n"
      ],
      "metadata": {
        "id": "oji1550tJOe5"
      }
    },
    {
      "cell_type": "code",
      "source": [
        "saved_model = tf.keras.models.load_model(\"traffic_sign.h5\")\n",
        "     \n",
        "\n",
        "saved_model.evaluate(X_test, y_test)\n",
        "     "
      ],
      "metadata": {
        "colab": {
          "base_uri": "https://localhost:8080/"
        },
        "id": "SX2_N4IvJNty",
        "outputId": "d0ab1cf3-cc84-46ce-90b6-392540792d36"
      },
      "execution_count": 15,
      "outputs": [
        {
          "output_type": "stream",
          "name": "stdout",
          "text": [
            "395/395 [==============================] - 15s 37ms/step - loss: 0.6376 - acc: 0.9380\n"
          ]
        },
        {
          "output_type": "execute_result",
          "data": {
            "text/plain": [
              "[0.6375763416290283, 0.938004732131958]"
            ]
          },
          "metadata": {},
          "execution_count": 15
        }
      ]
    }
  ]
}