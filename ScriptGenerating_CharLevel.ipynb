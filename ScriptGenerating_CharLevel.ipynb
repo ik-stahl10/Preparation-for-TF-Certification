{
  "nbformat": 4,
  "nbformat_minor": 0,
  "metadata": {
    "colab": {
      "provenance": [],
      "authorship_tag": "ABX9TyOGALr4cfl9OIpCjmniSY+b"
    },
    "kernelspec": {
      "name": "python3",
      "display_name": "Python 3"
    },
    "language_info": {
      "name": "python"
    }
  },
  "cells": [
    {
      "cell_type": "code",
      "execution_count": 1,
      "metadata": {
        "id": "Sa2tjB7gViq7"
      },
      "outputs": [],
      "source": [
        "import tensorflow as tf\n",
        "import numpy as np\n",
        "import pandas as pd\n",
        "     "
      ]
    },
    {
      "cell_type": "markdown",
      "source": [
        "Data gathering\n"
      ],
      "metadata": {
        "id": "nI0lXSDTVpal"
      }
    },
    {
      "cell_type": "code",
      "source": [
        "!wget https://storage.googleapis.com/download.tensorflow.org/data/shakespeare.txt\n"
      ],
      "metadata": {
        "colab": {
          "base_uri": "https://localhost:8080/"
        },
        "id": "bsiQLQZjVrVc",
        "outputId": "c68aa611-f76e-4145-ee97-1810fbd121bb"
      },
      "execution_count": 2,
      "outputs": [
        {
          "output_type": "stream",
          "name": "stdout",
          "text": [
            "--2022-12-13 12:43:13--  https://storage.googleapis.com/download.tensorflow.org/data/shakespeare.txt\n",
            "Resolving storage.googleapis.com (storage.googleapis.com)... 108.177.12.128, 108.177.13.128, 74.125.26.128, ...\n",
            "Connecting to storage.googleapis.com (storage.googleapis.com)|108.177.12.128|:443... connected.\n",
            "HTTP request sent, awaiting response... 200 OK\n",
            "Length: 1115394 (1.1M) [text/plain]\n",
            "Saving to: ‘shakespeare.txt’\n",
            "\n",
            "\rshakespeare.txt       0%[                    ]       0  --.-KB/s               \rshakespeare.txt     100%[===================>]   1.06M  --.-KB/s    in 0.03s   \n",
            "\n",
            "2022-12-13 12:43:13 (41.3 MB/s) - ‘shakespeare.txt’ saved [1115394/1115394]\n",
            "\n"
          ]
        }
      ]
    },
    {
      "cell_type": "code",
      "source": [
        "text = open(\"./shakespeare.txt\", \"rb\").read().decode(\"utf-8\")\n"
      ],
      "metadata": {
        "id": "1F8hOdfEVuY0"
      },
      "execution_count": 3,
      "outputs": []
    },
    {
      "cell_type": "markdown",
      "source": [
        "Create vocabulary and map each character in original document to a unique integer.\n",
        "\n"
      ],
      "metadata": {
        "id": "h2cIdeujVurE"
      }
    },
    {
      "cell_type": "code",
      "source": [
        "\n",
        "print(\"Number of characters:\", len(text))\n",
        "print(\"-\" * 50)\n",
        "print(text[:300])"
      ],
      "metadata": {
        "colab": {
          "base_uri": "https://localhost:8080/"
        },
        "id": "otU41jqCVwdr",
        "outputId": "4e574fd7-7868-410b-f306-4881937f9986"
      },
      "execution_count": 4,
      "outputs": [
        {
          "output_type": "stream",
          "name": "stdout",
          "text": [
            "Number of characters: 1115394\n",
            "--------------------------------------------------\n",
            "First Citizen:\n",
            "Before we proceed any further, hear me speak.\n",
            "\n",
            "All:\n",
            "Speak, speak.\n",
            "\n",
            "First Citizen:\n",
            "You are all resolved rather to die than to famish?\n",
            "\n",
            "All:\n",
            "Resolved. resolved.\n",
            "\n",
            "First Citizen:\n",
            "First, you know Caius Marcius is chief enemy to the people.\n",
            "\n",
            "All:\n",
            "We know't, we know't.\n",
            "\n",
            "First Citizen:\n",
            "Let us\n"
          ]
        }
      ]
    },
    {
      "cell_type": "code",
      "source": [
        "vocab = sorted(set(text))\n",
        "ids_to_char = np.array(vocab)\n",
        "char_to_ids = {char: char_idx for char_idx, char in enumerate(vocab)}\n",
        "     "
      ],
      "metadata": {
        "id": "N-DKpOs2VzNk"
      },
      "execution_count": 5,
      "outputs": []
    },
    {
      "cell_type": "markdown",
      "source": [
        "Convert each character in the text to corresponding integer.\n",
        "\n"
      ],
      "metadata": {
        "id": "GUyk1XIDV2CE"
      }
    },
    {
      "cell_type": "code",
      "source": [
        "text_ids = np.array([char_to_ids[char] for char in text])\n",
        "print(text_ids[:300])\n",
        "     "
      ],
      "metadata": {
        "colab": {
          "base_uri": "https://localhost:8080/"
        },
        "id": "xXfLGVefV3ks",
        "outputId": "a3799b20-a577-48c5-a8ab-f0013ce4944b"
      },
      "execution_count": 6,
      "outputs": [
        {
          "output_type": "stream",
          "name": "stdout",
          "text": [
            "[18 47 56 57 58  1 15 47 58 47 64 43 52 10  0 14 43 44 53 56 43  1 61 43\n",
            "  1 54 56 53 41 43 43 42  1 39 52 63  1 44 59 56 58 46 43 56  6  1 46 43\n",
            " 39 56  1 51 43  1 57 54 43 39 49  8  0  0 13 50 50 10  0 31 54 43 39 49\n",
            "  6  1 57 54 43 39 49  8  0  0 18 47 56 57 58  1 15 47 58 47 64 43 52 10\n",
            "  0 37 53 59  1 39 56 43  1 39 50 50  1 56 43 57 53 50 60 43 42  1 56 39\n",
            " 58 46 43 56  1 58 53  1 42 47 43  1 58 46 39 52  1 58 53  1 44 39 51 47\n",
            " 57 46 12  0  0 13 50 50 10  0 30 43 57 53 50 60 43 42  8  1 56 43 57 53\n",
            " 50 60 43 42  8  0  0 18 47 56 57 58  1 15 47 58 47 64 43 52 10  0 18 47\n",
            " 56 57 58  6  1 63 53 59  1 49 52 53 61  1 15 39 47 59 57  1 25 39 56 41\n",
            " 47 59 57  1 47 57  1 41 46 47 43 44  1 43 52 43 51 63  1 58 53  1 58 46\n",
            " 43  1 54 43 53 54 50 43  8  0  0 13 50 50 10  0 35 43  1 49 52 53 61  5\n",
            " 58  6  1 61 43  1 49 52 53 61  5 58  8  0  0 18 47 56 57 58  1 15 47 58\n",
            " 47 64 43 52 10  0 24 43 58  1 59 57]\n"
          ]
        }
      ]
    },
    {
      "cell_type": "markdown",
      "source": [
        "Data preparation\n",
        "Split a text into multiple chunk, each chunk contains SEQ_LEN characters.\n",
        "\n",
        "As the task is to predict the next character, we define the input and the target for each chunk as:\n",
        "\n",
        "Input: Up to the last character.\n",
        "Target: Input shifted one character to the right."
      ],
      "metadata": {
        "id": "N2EniIgUV7T0"
      }
    },
    {
      "cell_type": "code",
      "source": [
        "def train_target_split(chunk):\n",
        "  input_chunk = chunk[:-1]\n",
        "  target_chunk = chunk[1:]\n",
        "  return input_chunk, target_chunk\n",
        "     \n",
        "\n",
        "SEQ_LEN = 64\n",
        "BUFFER_SIZE = 10000\n",
        "samples = tf.data.Dataset.from_tensor_slices(text_ids).batch(SEQ_LEN + 1, drop_remainder=True).map(train_target_split).shuffle(BUFFER_SIZE)\n",
        "     "
      ],
      "metadata": {
        "id": "34heUjs1V70l"
      },
      "execution_count": 7,
      "outputs": []
    },
    {
      "cell_type": "markdown",
      "source": [
        "Batch"
      ],
      "metadata": {
        "id": "wT_V765fV-RG"
      }
    },
    {
      "cell_type": "code",
      "source": [
        "BATCH_SIZE = 64\n",
        "\n",
        "test_size = 0.2\n",
        "num_samples = sum(1 for x in samples)\n",
        "num_train_samples = int(test_size * num_samples)\n",
        "ds_train = samples.take(num_train_samples).batch(BATCH_SIZE)\n",
        "ds_val = samples.skip(num_train_samples).batch(BATCH_SIZE)\n",
        "     "
      ],
      "metadata": {
        "id": "5ZV5LQ1RV_Zd"
      },
      "execution_count": 8,
      "outputs": []
    },
    {
      "cell_type": "markdown",
      "source": [
        "Model"
      ],
      "metadata": {
        "id": "U_5PKCYgWBN-"
      }
    },
    {
      "cell_type": "code",
      "source": [
        "from tensorflow.keras.models import Sequential\n",
        "from tensorflow.keras.layers import Embedding, Dense, LSTM, Bidirectional\n",
        "     \n",
        "\n",
        "EMBED_DIM = 64\n",
        "VOCAB_SIZE = len(vocab)\n",
        "     \n",
        "\n",
        "model = Sequential()\n",
        "model.add(Embedding(input_dim=VOCAB_SIZE, output_dim=EMBED_DIM))\n",
        "model.add(Bidirectional(LSTM(32, return_sequences=True)))\n",
        "model.add(Dense(VOCAB_SIZE, activation=\"softmax\"))\n",
        "model.summary()"
      ],
      "metadata": {
        "colab": {
          "base_uri": "https://localhost:8080/"
        },
        "id": "5vxQHIpoWCFE",
        "outputId": "cf1f529f-2082-457c-954d-10a46e1f3eb9"
      },
      "execution_count": 9,
      "outputs": [
        {
          "output_type": "stream",
          "name": "stdout",
          "text": [
            "Model: \"sequential\"\n",
            "_________________________________________________________________\n",
            " Layer (type)                Output Shape              Param #   \n",
            "=================================================================\n",
            " embedding (Embedding)       (None, None, 64)          4160      \n",
            "                                                                 \n",
            " bidirectional (Bidirectiona  (None, None, 64)         24832     \n",
            " l)                                                              \n",
            "                                                                 \n",
            " dense (Dense)               (None, None, 65)          4225      \n",
            "                                                                 \n",
            "=================================================================\n",
            "Total params: 33,217\n",
            "Trainable params: 33,217\n",
            "Non-trainable params: 0\n",
            "_________________________________________________________________\n"
          ]
        }
      ]
    },
    {
      "cell_type": "code",
      "source": [
        "model.compile(optimizer=\"rmsprop\", loss=\"sparse_categorical_crossentropy\", metrics=[\"acc\"])\n",
        "     \n",
        "\n",
        "history = model.fit(ds_train, epochs=10, validation_data=ds_val)\n",
        "     "
      ],
      "metadata": {
        "colab": {
          "base_uri": "https://localhost:8080/"
        },
        "id": "Hb8y6rx1WFTQ",
        "outputId": "ace4b5f8-fc4f-4357-8622-3a72cc675cdf"
      },
      "execution_count": 10,
      "outputs": [
        {
          "output_type": "stream",
          "name": "stdout",
          "text": [
            "Epoch 1/10\n",
            "54/54 [==============================] - 18s 231ms/step - loss: 3.4565 - acc: 0.1494 - val_loss: 3.2214 - val_acc: 0.1524\n",
            "Epoch 2/10\n",
            "54/54 [==============================] - 12s 212ms/step - loss: 3.0804 - acc: 0.1736 - val_loss: 2.9093 - val_acc: 0.2160\n",
            "Epoch 3/10\n",
            "54/54 [==============================] - 12s 215ms/step - loss: 2.7066 - acc: 0.2624 - val_loss: 2.4691 - val_acc: 0.3507\n",
            "Epoch 4/10\n",
            "54/54 [==============================] - 13s 221ms/step - loss: 2.2316 - acc: 0.4258 - val_loss: 1.9882 - val_acc: 0.5071\n",
            "Epoch 5/10\n",
            "54/54 [==============================] - 13s 224ms/step - loss: 1.7719 - acc: 0.5694 - val_loss: 1.5568 - val_acc: 0.6305\n",
            "Epoch 6/10\n",
            "54/54 [==============================] - 13s 219ms/step - loss: 1.3675 - acc: 0.6884 - val_loss: 1.1920 - val_acc: 0.7455\n",
            "Epoch 7/10\n",
            "54/54 [==============================] - 13s 218ms/step - loss: 1.0374 - acc: 0.7864 - val_loss: 0.8981 - val_acc: 0.8232\n",
            "Epoch 8/10\n",
            "54/54 [==============================] - 13s 219ms/step - loss: 0.7753 - acc: 0.8569 - val_loss: 0.6640 - val_acc: 0.8845\n",
            "Epoch 9/10\n",
            "54/54 [==============================] - 14s 244ms/step - loss: 0.5672 - acc: 0.9071 - val_loss: 0.4863 - val_acc: 0.9242\n",
            "Epoch 10/10\n",
            "54/54 [==============================] - 13s 222ms/step - loss: 0.4120 - acc: 0.9418 - val_loss: 0.3546 - val_acc: 0.9520\n"
          ]
        }
      ]
    }
  ]
}