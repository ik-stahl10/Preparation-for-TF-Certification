{
  "nbformat": 4,
  "nbformat_minor": 0,
  "metadata": {
    "colab": {
      "provenance": [],
      "authorship_tag": "ABX9TyM1311KaOCoJBh3ZxFO5hU9"
    },
    "kernelspec": {
      "name": "python3",
      "display_name": "Python 3"
    },
    "language_info": {
      "name": "python"
    }
  },
  "cells": [
    {
      "cell_type": "code",
      "execution_count": 1,
      "metadata": {
        "id": "7I4OSFgOWLXh"
      },
      "outputs": [],
      "source": [
        "import pandas as pd\n",
        "import datetime\n",
        "import seaborn as sns\n",
        "import matplotlib.pyplot as plt\n",
        "import tensorflow as tf\n",
        "import numpy as np\n",
        "     "
      ]
    },
    {
      "cell_type": "markdown",
      "source": [
        "Data Gathering\n"
      ],
      "metadata": {
        "id": "hmQO2BPrWWUF"
      }
    },
    {
      "cell_type": "code",
      "source": [
        "!wget https://storage.googleapis.com/laurencemoroney-blog.appspot.com/Sunspots.csv\n",
        "\n",
        "df = pd.read_csv(\"Sunspots.csv\", index_col=0)\n",
        "df.head()"
      ],
      "metadata": {
        "colab": {
          "base_uri": "https://localhost:8080/",
          "height": 397
        },
        "id": "wApIOad5WYCM",
        "outputId": "3e98d6dc-54ca-402b-e70c-8ed33b343622"
      },
      "execution_count": 3,
      "outputs": [
        {
          "output_type": "stream",
          "name": "stdout",
          "text": [
            "--  https://storage.googleapis.com/laurencemoroney-blog.appspot.com/Sunspots.csv\n",
            "Resolving storage.googleapis.com (storage.googleapis.com)... 142.251.2.128, 142.250.141.128, 74.125.137.128, ...\n",
            "Connecting to storage.googleapis.com (storage.googleapis.com)|142.251.2.128|:443... connected.\n",
            "HTTP request sent, awaiting response... 200 OK\n",
            "Length: 70827 (69K) [application/octet-stream]\n",
            "Saving to: ‘Sunspots.csv’\n",
            "\n",
            "\rSunspots.csv          0%[                    ]       0  --.-KB/s               \rSunspots.csv        100%[===================>]  69.17K  --.-KB/s    in 0.001s  \n",
            "\n",
            " (81.4 MB/s) - ‘Sunspots.csv’ saved [70827/70827]\n",
            "\n"
          ]
        },
        {
          "output_type": "execute_result",
          "data": {
            "text/plain": [
              "         Date  Monthly Mean Total Sunspot Number\n",
              "0  1749-01-31                               96.7\n",
              "1  1749-02-28                              104.3\n",
              "2  1749-03-31                              116.7\n",
              "3  1749-04-30                               92.8\n",
              "4  1749-05-31                              141.7"
            ],
            "text/html": [
              "\n",
              "  <div id=\"df-346ad69d-4c56-457a-83b0-693678cdeddf\">\n",
              "    <div class=\"colab-df-container\">\n",
              "      <div>\n",
              "<style scoped>\n",
              "    .dataframe tbody tr th:only-of-type {\n",
              "        vertical-align: middle;\n",
              "    }\n",
              "\n",
              "    .dataframe tbody tr th {\n",
              "        vertical-align: top;\n",
              "    }\n",
              "\n",
              "    .dataframe thead th {\n",
              "        text-align: right;\n",
              "    }\n",
              "</style>\n",
              "<table border=\"1\" class=\"dataframe\">\n",
              "  <thead>\n",
              "    <tr style=\"text-align: right;\">\n",
              "      <th></th>\n",
              "      <th>Date</th>\n",
              "      <th>Monthly Mean Total Sunspot Number</th>\n",
              "    </tr>\n",
              "  </thead>\n",
              "  <tbody>\n",
              "    <tr>\n",
              "      <th>0</th>\n",
              "      <td>1749-01-31</td>\n",
              "      <td>96.7</td>\n",
              "    </tr>\n",
              "    <tr>\n",
              "      <th>1</th>\n",
              "      <td>1749-02-28</td>\n",
              "      <td>104.3</td>\n",
              "    </tr>\n",
              "    <tr>\n",
              "      <th>2</th>\n",
              "      <td>1749-03-31</td>\n",
              "      <td>116.7</td>\n",
              "    </tr>\n",
              "    <tr>\n",
              "      <th>3</th>\n",
              "      <td>1749-04-30</td>\n",
              "      <td>92.8</td>\n",
              "    </tr>\n",
              "    <tr>\n",
              "      <th>4</th>\n",
              "      <td>1749-05-31</td>\n",
              "      <td>141.7</td>\n",
              "    </tr>\n",
              "  </tbody>\n",
              "</table>\n",
              "</div>\n",
              "      <button class=\"colab-df-convert\" onclick=\"convertToInteractive('df-346ad69d-4c56-457a-83b0-693678cdeddf')\"\n",
              "              title=\"Convert this dataframe to an interactive table.\"\n",
              "              style=\"display:none;\">\n",
              "        \n",
              "  <svg xmlns=\"http://www.w3.org/2000/svg\" height=\"24px\"viewBox=\"0 0 24 24\"\n",
              "       width=\"24px\">\n",
              "    <path d=\"M0 0h24v24H0V0z\" fill=\"none\"/>\n",
              "    <path d=\"M18.56 5.44l.94 2.06.94-2.06 2.06-.94-2.06-.94-.94-2.06-.94 2.06-2.06.94zm-11 1L8.5 8.5l.94-2.06 2.06-.94-2.06-.94L8.5 2.5l-.94 2.06-2.06.94zm10 10l.94 2.06.94-2.06 2.06-.94-2.06-.94-.94-2.06-.94 2.06-2.06.94z\"/><path d=\"M17.41 7.96l-1.37-1.37c-.4-.4-.92-.59-1.43-.59-.52 0-1.04.2-1.43.59L10.3 9.45l-7.72 7.72c-.78.78-.78 2.05 0 2.83L4 21.41c.39.39.9.59 1.41.59.51 0 1.02-.2 1.41-.59l7.78-7.78 2.81-2.81c.8-.78.8-2.07 0-2.86zM5.41 20L4 18.59l7.72-7.72 1.47 1.35L5.41 20z\"/>\n",
              "  </svg>\n",
              "      </button>\n",
              "      \n",
              "  <style>\n",
              "    .colab-df-container {\n",
              "      display:flex;\n",
              "      flex-wrap:wrap;\n",
              "      gap: 12px;\n",
              "    }\n",
              "\n",
              "    .colab-df-convert {\n",
              "      background-color: #E8F0FE;\n",
              "      border: none;\n",
              "      border-radius: 50%;\n",
              "      cursor: pointer;\n",
              "      display: none;\n",
              "      fill: #1967D2;\n",
              "      height: 32px;\n",
              "      padding: 0 0 0 0;\n",
              "      width: 32px;\n",
              "    }\n",
              "\n",
              "    .colab-df-convert:hover {\n",
              "      background-color: #E2EBFA;\n",
              "      box-shadow: 0px 1px 2px rgba(60, 64, 67, 0.3), 0px 1px 3px 1px rgba(60, 64, 67, 0.15);\n",
              "      fill: #174EA6;\n",
              "    }\n",
              "\n",
              "    [theme=dark] .colab-df-convert {\n",
              "      background-color: #3B4455;\n",
              "      fill: #D2E3FC;\n",
              "    }\n",
              "\n",
              "    [theme=dark] .colab-df-convert:hover {\n",
              "      background-color: #434B5C;\n",
              "      box-shadow: 0px 1px 3px 1px rgba(0, 0, 0, 0.15);\n",
              "      filter: drop-shadow(0px 1px 2px rgba(0, 0, 0, 0.3));\n",
              "      fill: #FFFFFF;\n",
              "    }\n",
              "  </style>\n",
              "\n",
              "      <script>\n",
              "        const buttonEl =\n",
              "          document.querySelector('#df-346ad69d-4c56-457a-83b0-693678cdeddf button.colab-df-convert');\n",
              "        buttonEl.style.display =\n",
              "          google.colab.kernel.accessAllowed ? 'block' : 'none';\n",
              "\n",
              "        async function convertToInteractive(key) {\n",
              "          const element = document.querySelector('#df-346ad69d-4c56-457a-83b0-693678cdeddf');\n",
              "          const dataTable =\n",
              "            await google.colab.kernel.invokeFunction('convertToInteractive',\n",
              "                                                     [key], {});\n",
              "          if (!dataTable) return;\n",
              "\n",
              "          const docLinkHtml = 'Like what you see? Visit the ' +\n",
              "            '<a target=\"_blank\" href=https://colab.research.google.com/notebooks/data_table.ipynb>data table notebook</a>'\n",
              "            + ' to learn more about interactive tables.';\n",
              "          element.innerHTML = '';\n",
              "          dataTable['output_type'] = 'display_data';\n",
              "          await google.colab.output.renderOutput(dataTable, element);\n",
              "          const docLink = document.createElement('div');\n",
              "          docLink.innerHTML = docLinkHtml;\n",
              "          element.appendChild(docLink);\n",
              "        }\n",
              "      </script>\n",
              "    </div>\n",
              "  </div>\n",
              "  "
            ]
          },
          "metadata": {},
          "execution_count": 3
        }
      ]
    },
    {
      "cell_type": "markdown",
      "source": [
        "Preprocess and batch data"
      ],
      "metadata": {
        "id": "T6krh15bWb7k"
      }
    },
    {
      "cell_type": "code",
      "source": [
        "from sklearn.preprocessing import MinMaxScaler\n",
        "\n",
        "scaler = MinMaxScaler()\n",
        "data = df[\"Monthly Mean Total Sunspot Number\"].values.reshape(-1, 1)\n",
        "data = scaler.fit_transform(data)\n",
        "     \n",
        "\n",
        "fig = plt.figure(figsize=(5, 6));\n",
        "df.plot();"
      ],
      "metadata": {
        "colab": {
          "base_uri": "https://localhost:8080/",
          "height": 282
        },
        "id": "vwqI-VM3WgRr",
        "outputId": "49b16c7c-741c-40cd-bd3d-b363ab6e2909"
      },
      "execution_count": 4,
      "outputs": [
        {
          "output_type": "display_data",
          "data": {
            "text/plain": [
              "<Figure size 360x432 with 0 Axes>"
            ]
          },
          "metadata": {}
        },
        {
          "output_type": "display_data",
          "data": {
            "text/plain": [
              "<Figure size 432x288 with 1 Axes>"
            ],
            "image/png": "[encoded data removed]"
          },
          "metadata": {
            "needs_background": "light"
          }
        }
      ]
    },
    {
      "cell_type": "markdown",
      "source": [
        "Multi-output forecasting vs. single step model\n",
        "\n",
        "Predict multiple next values at once."
      ],
      "metadata": {
        "id": "xfz3Pz-PWliV"
      }
    },
    {
      "cell_type": "code",
      "source": [
        "BUFFER_SIZE = 1024\n",
        "WINDOW_SIZE = 60\n",
        "\n",
        "samples = tf.data.Dataset.from_tensor_slices(data)\n",
        "samples = samples.window(size=WINDOW_SIZE + 1, shift=1, drop_remainder=True).flat_map(lambda w : w.batch(WINDOW_SIZE + 1))\n",
        "samples = samples.map(lambda x : (tf.expand_dims(x[:-1], axis=-1), x[1:]))\n",
        "samples = samples.shuffle(BUFFER_SIZE)\n",
        "     "
      ],
      "metadata": {
        "id": "6TO1EnJ_WnTE"
      },
      "execution_count": 5,
      "outputs": []
    },
    {
      "cell_type": "code",
      "source": [
        "BATCH_SIZE = 64\n",
        "\n",
        "test_size = 0.2\n",
        "num_samples = sum(1 for x in samples)\n",
        "num_train_samples = int((1 - test_size) * num_samples)\n",
        "print(\"Number of training samples:\", num_train_samples)\n",
        "print(\"Number of validation samples:\", num_samples - num_train_samples)\n",
        "ds_train = samples.take(num_train_samples).batch(BATCH_SIZE)\n",
        "ds_val = samples.skip(num_train_samples).batch(BATCH_SIZE)"
      ],
      "metadata": {
        "colab": {
          "base_uri": "https://localhost:8080/"
        },
        "id": "_glPsEphWqWb",
        "outputId": "b002ea33-7d67-40c2-8821-c5540815f49f"
      },
      "execution_count": 6,
      "outputs": [
        {
          "output_type": "stream",
          "name": "stdout",
          "text": [
            "Number of training samples: 2540\n",
            "Number of validation samples: 635\n"
          ]
        }
      ]
    },
    {
      "cell_type": "markdown",
      "source": [
        "Model"
      ],
      "metadata": {
        "id": "sYLRRkdJWsek"
      }
    },
    {
      "cell_type": "markdown",
      "source": [
        "Stacked RNN"
      ],
      "metadata": {
        "id": "uXHw5jBqWwbF"
      }
    },
    {
      "cell_type": "code",
      "source": [
        "from tensorflow.keras.models import Sequential\n",
        "from tensorflow.keras.layers import Bidirectional, Conv1D, LSTM, Dense, GRU\n",
        "     \n",
        "\n",
        "model = Sequential()\n",
        "model.add(Conv1D(filters=32, kernel_size=5, strides=1, padding=\"causal\", activation=\"relu\", input_shape=[WINDOW_SIZE, 1]))\n",
        "model.add(GRU(128, return_sequences=True))\n",
        "model.add(GRU(64, return_sequences=True))\n",
        "model.add(Dense(32, activation=\"swish\"))\n",
        "model.add(Dense(16, activation=\"swish\"))\n",
        "model.add(Dense(1))\n",
        "     \n",
        "\n",
        "model.compile(optimizer=\"rmsprop\", loss=\"huber\", metrics=[\"mae\"])\n",
        "model.summary()"
      ],
      "metadata": {
        "colab": {
          "base_uri": "https://localhost:8080/"
        },
        "id": "bMkU83phWtaE",
        "outputId": "1a019d4c-0b90-4669-d280-78c617099f25"
      },
      "execution_count": 7,
      "outputs": [
        {
          "output_type": "stream",
          "name": "stdout",
          "text": [
            "Model: \"sequential\"\n",
            "_________________________________________________________________\n",
            " Layer (type)                Output Shape              Param #   \n",
            "=================================================================\n",
            " conv1d (Conv1D)             (None, 60, 32)            192       \n",
            "                                                                 \n",
            " gru (GRU)                   (None, 60, 128)           62208     \n",
            "                                                                 \n",
            " gru_1 (GRU)                 (None, 60, 64)            37248     \n",
            "                                                                 \n",
            " dense (Dense)               (None, 60, 32)            2080      \n",
            "                                                                 \n",
            " dense_1 (Dense)             (None, 60, 16)            528       \n",
            "                                                                 \n",
            " dense_2 (Dense)             (None, 60, 1)             17        \n",
            "                                                                 \n",
            "=================================================================\n",
            "Total params: 102,273\n",
            "Trainable params: 102,273\n",
            "Non-trainable params: 0\n",
            "_________________________________________________________________\n"
          ]
        }
      ]
    },
    {
      "cell_type": "code",
      "source": [
        "model.fit(ds_train, epochs=10, validation_data=ds_val);\n"
      ],
      "metadata": {
        "colab": {
          "base_uri": "https://localhost:8080/"
        },
        "id": "Y0-ALKelW2n0",
        "outputId": "9fb77534-6af0-4db9-9ce9-85672ccef3de"
      },
      "execution_count": 9,
      "outputs": [
        {
          "output_type": "stream",
          "name": "stdout",
          "text": [
            "Epoch 1/10\n",
            "40/40 [==============================] - 8s 195ms/step - loss: 0.0024 - mae: 0.0496 - val_loss: 0.0021 - val_mae: 0.0478\n",
            "Epoch 2/10\n",
            "40/40 [==============================] - 9s 230ms/step - loss: 0.0023 - mae: 0.0488 - val_loss: 0.0019 - val_mae: 0.0441\n",
            "Epoch 3/10\n",
            "40/40 [==============================] - 8s 197ms/step - loss: 0.0023 - mae: 0.0488 - val_loss: 0.0023 - val_mae: 0.0505\n",
            "Epoch 4/10\n",
            "40/40 [==============================] - 9s 228ms/step - loss: 0.0022 - mae: 0.0481 - val_loss: 0.0020 - val_mae: 0.0469\n",
            "Epoch 5/10\n",
            "40/40 [==============================] - 8s 195ms/step - loss: 0.0023 - mae: 0.0482 - val_loss: 0.0025 - val_mae: 0.0525\n",
            "Epoch 6/10\n",
            "40/40 [==============================] - 8s 196ms/step - loss: 0.0022 - mae: 0.0482 - val_loss: 0.0021 - val_mae: 0.0479\n",
            "Epoch 7/10\n",
            "40/40 [==============================] - 8s 195ms/step - loss: 0.0022 - mae: 0.0480 - val_loss: 0.0021 - val_mae: 0.0482\n",
            "Epoch 8/10\n",
            "40/40 [==============================] - 8s 198ms/step - loss: 0.0022 - mae: 0.0473 - val_loss: 0.0019 - val_mae: 0.0459\n",
            "Epoch 9/10\n",
            "40/40 [==============================] - 8s 199ms/step - loss: 0.0022 - mae: 0.0474 - val_loss: 0.0021 - val_mae: 0.0476\n",
            "Epoch 10/10\n",
            "40/40 [==============================] - 8s 197ms/step - loss: 0.0021 - mae: 0.0471 - val_loss: 0.0021 - val_mae: 0.0483\n"
          ]
        }
      ]
    },
    {
      "cell_type": "markdown",
      "source": [
        "Bidirectional RNN"
      ],
      "metadata": {
        "id": "6y4PrsPIW6Rl"
      }
    },
    {
      "cell_type": "code",
      "source": [
        "model = Sequential()\n",
        "model.add(Conv1D(filters=32, kernel_size=5, strides=1, padding=\"causal\", activation=\"relu\", input_shape=[WINDOW_SIZE, 1]))\n",
        "model.add(Bidirectional(GRU(64, return_sequences=True)))\n",
        "model.add(Bidirectional(GRU(64, return_sequences=True)))\n",
        "model.add(Dense(32, activation=\"swish\"))\n",
        "model.add(Dense(16, activation=\"swish\"))\n",
        "model.add(Dense(1))\n",
        "\n",
        "model.compile(optimizer=\"rmsprop\", loss=\"huber\", metrics=[\"mae\"])\n",
        "model.summary()"
      ],
      "metadata": {
        "colab": {
          "base_uri": "https://localhost:8080/"
        },
        "id": "BS9DOjYeW8A8",
        "outputId": "d656d356-0bf0-43dd-a0c2-74c00b94d1f8"
      },
      "execution_count": 10,
      "outputs": [
        {
          "output_type": "stream",
          "name": "stdout",
          "text": [
            "Model: \"sequential_1\"\n",
            "_________________________________________________________________\n",
            " Layer (type)                Output Shape              Param #   \n",
            "=================================================================\n",
            " conv1d_1 (Conv1D)           (None, 60, 32)            192       \n",
            "                                                                 \n",
            " bidirectional (Bidirectiona  (None, 60, 128)          37632     \n",
            " l)                                                              \n",
            "                                                                 \n",
            " bidirectional_1 (Bidirectio  (None, 60, 128)          74496     \n",
            " nal)                                                            \n",
            "                                                                 \n",
            " dense_3 (Dense)             (None, 60, 32)            4128      \n",
            "                                                                 \n",
            " dense_4 (Dense)             (None, 60, 16)            528       \n",
            "                                                                 \n",
            " dense_5 (Dense)             (None, 60, 1)             17        \n",
            "                                                                 \n",
            "=================================================================\n",
            "Total params: 116,993\n",
            "Trainable params: 116,993\n",
            "Non-trainable params: 0\n",
            "_________________________________________________________________\n"
          ]
        }
      ]
    },
    {
      "cell_type": "code",
      "source": [
        "model.fit(ds_train, epochs=10, validation_data=ds_val);\n"
      ],
      "metadata": {
        "colab": {
          "base_uri": "https://localhost:8080/"
        },
        "id": "a4A3bfqjW_5E",
        "outputId": "b6276aa5-9ab1-4d71-cfde-2872a40c2570"
      },
      "execution_count": 12,
      "outputs": [
        {
          "output_type": "stream",
          "name": "stdout",
          "text": [
            "Epoch 1/10\n",
            "40/40 [==============================] - 12s 288ms/step - loss: 0.0022 - mae: 0.0472 - val_loss: 0.0039 - val_mae: 0.0652\n",
            "Epoch 2/10\n",
            "40/40 [==============================] - 9s 230ms/step - loss: 0.0017 - mae: 0.0412 - val_loss: 0.0014 - val_mae: 0.0375\n",
            "Epoch 3/10\n",
            "40/40 [==============================] - 9s 229ms/step - loss: 0.0014 - mae: 0.0382 - val_loss: 0.0012 - val_mae: 0.0336\n",
            "Epoch 4/10\n",
            "40/40 [==============================] - 9s 231ms/step - loss: 0.0011 - mae: 0.0337 - val_loss: 5.6733e-04 - val_mae: 0.0231\n",
            "Epoch 5/10\n",
            "40/40 [==============================] - 9s 230ms/step - loss: 8.2575e-04 - mae: 0.0295 - val_loss: 3.4004e-04 - val_mae: 0.0176\n",
            "Epoch 6/10\n",
            "40/40 [==============================] - 9s 229ms/step - loss: 6.0937e-04 - mae: 0.0256 - val_loss: 4.2137e-04 - val_mae: 0.0227\n",
            "Epoch 7/10\n",
            "40/40 [==============================] - 9s 230ms/step - loss: 5.1597e-04 - mae: 0.0230 - val_loss: 2.2536e-04 - val_mae: 0.0161\n",
            "Epoch 8/10\n",
            "40/40 [==============================] - 9s 227ms/step - loss: 4.3091e-04 - mae: 0.0223 - val_loss: 6.7700e-04 - val_mae: 0.0266\n",
            "Epoch 9/10\n",
            "40/40 [==============================] - 9s 230ms/step - loss: 4.2364e-04 - mae: 0.0222 - val_loss: 3.4531e-04 - val_mae: 0.0192\n",
            "Epoch 10/10\n",
            "40/40 [==============================] - 11s 265ms/step - loss: 3.8488e-04 - mae: 0.0192 - val_loss: 2.0901e-04 - val_mae: 0.0155\n"
          ]
        }
      ]
    }
  ]
}
